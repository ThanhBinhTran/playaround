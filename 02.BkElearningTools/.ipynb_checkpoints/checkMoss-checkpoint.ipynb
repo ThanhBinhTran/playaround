{
 "cells": [
  {
   "cell_type": "code",
   "execution_count": 1,
   "metadata": {},
   "outputs": [
    {
     "name": "stdout",
     "output_type": "stream",
     "text": [
      "['C:\\\\Users\\\\Binh Tran\\\\Downloads\\\\Assignment\\\\1449529-Phạm Bùi Hải Thanh_839461_assignsubmission_file_\\\\Assignment_1449529.rar', 'C:\\\\Users\\\\Binh Tran\\\\Downloads\\\\Assignment\\\\1812915-Nguyễn Phi Long_839404_assignsubmission_file_\\\\Nguyễn_Phi_Long_1812915.rar', 'C:\\\\Users\\\\Binh Tran\\\\Downloads\\\\Assignment\\\\1813952-Huỳnh Ngọc Tấn_839425_assignsubmission_file_\\\\L08_1813952.rar', 'C:\\\\Users\\\\Binh Tran\\\\Downloads\\\\Assignment\\\\1910094-Trần Đức Duy_806382_assignsubmission_file_\\\\CA_assignment.rar', 'C:\\\\Users\\\\Binh Tran\\\\Downloads\\\\Assignment\\\\1910137-Nguyễn Huỳnh Đức_806361_assignsubmission_file_\\\\KTMT Assignment.rar', 'C:\\\\Users\\\\Binh Tran\\\\Downloads\\\\Assignment\\\\1910202-Lê Gia Huy_806372_assignsubmission_file_\\\\Submission.rar', 'C:\\\\Users\\\\Binh Tran\\\\Downloads\\\\Assignment\\\\1910351-Đặng Nguyễn Xuân Nam_806362_assignsubmission_file_\\\\Btl_ktmt.rar', 'C:\\\\Users\\\\Binh Tran\\\\Downloads\\\\Assignment\\\\1910409-Võ Nguyễn Thiện Nhân_806384_assignsubmission_file_\\\\Problem6_MergeSort.rar', 'C:\\\\Users\\\\Binh Tran\\\\Downloads\\\\Assignment\\\\1911015-Nguyễn Tấn Đạt_839418_assignsubmission_file_\\\\Merge-1911015.rar', 'C:\\\\Users\\\\Binh Tran\\\\Downloads\\\\Assignment\\\\1911530-Nguyễn Kim Lộc_839387_assignsubmission_file_\\\\Assignment - Problem 2 - L09.rar', 'C:\\\\Users\\\\Binh Tran\\\\Downloads\\\\Assignment\\\\1911704-Nguyễn Thủy Ngọc_839479_assignsubmission_file_\\\\MergeSort.rar', 'C:\\\\Users\\\\Binh Tran\\\\Downloads\\\\Assignment\\\\1913579-Vũ Quốc Huy_839423_assignsubmission_file_\\\\MIPS.rar', 'C:\\\\Users\\\\Binh Tran\\\\Downloads\\\\Assignment\\\\1915656-Ngô Đức Trí_839467_assignsubmission_file_\\\\1915656_1915161_1915442.rar', 'C:\\\\Users\\\\Binh Tran\\\\Downloads\\\\Assignment\\\\1915666-Trần Quang Trí_839365_assignsubmission_file_\\\\L08_Assignment.rar', 'C:\\\\Users\\\\Binh Tran\\\\Downloads\\\\Assignment\\\\1927001-Lê Nhựt Anh_806380_assignsubmission_file_\\\\Assigment-1927001-1811775.rar', 'C:\\\\Users\\\\Binh Tran\\\\Downloads\\\\Assignment\\\\1710162-Nguyễn Quang Lâm_839395_assignsubmission_file_\\\\Assignment.zip', 'C:\\\\Users\\\\Binh Tran\\\\Downloads\\\\Assignment\\\\1811486-Trần Long Ẩn_806368_assignsubmission_file_\\\\Assignment_Bai1_1811486.zip', 'C:\\\\Users\\\\Binh Tran\\\\Downloads\\\\Assignment\\\\1812336-Bùi Đức Huy_806383_assignsubmission_file_\\\\buiduchuy-1812336.zip', 'C:\\\\Users\\\\Binh Tran\\\\Downloads\\\\Assignment\\\\1813449-Nguyễn Sinh Nhựt_839436_assignsubmission_file_\\\\Assignment_1.zip', 'C:\\\\Users\\\\Binh Tran\\\\Downloads\\\\Assignment\\\\1814038-Võ Công Thành_806388_assignsubmission_file_\\\\L09_1814038_1814096.zip', 'C:\\\\Users\\\\Binh Tran\\\\Downloads\\\\Assignment\\\\1814812-Lê Tuấn Vũ_839442_assignsubmission_file_\\\\Assignment-1814812-letuanvu.zip', 'C:\\\\Users\\\\Binh Tran\\\\Downloads\\\\Assignment\\\\1910113-Nguyễn Thành Đạt_806374_assignsubmission_file_\\\\kientrucmaytinh.zip', 'C:\\\\Users\\\\Binh Tran\\\\Downloads\\\\Assignment\\\\1910276-Võ Văn Đăng Khoa_806397_assignsubmission_file_\\\\Assignment.zip', 'C:\\\\Users\\\\Binh Tran\\\\Downloads\\\\Assignment\\\\1910617-Nguyễn Thanh Toàn_806396_assignsubmission_file_\\\\Report.zip', 'C:\\\\Users\\\\Binh Tran\\\\Downloads\\\\Assignment\\\\1910620-Nguyễn Kim Phương Trang_806385_assignsubmission_file_\\\\BTL_MergeSort.zip', 'C:\\\\Users\\\\Binh Tran\\\\Downloads\\\\Assignment\\\\1910644-Nguyễn Hoàng Trung_806371_assignsubmission_file_\\\\Ass-L10.zip', 'C:\\\\Users\\\\Binh Tran\\\\Downloads\\\\Assignment\\\\1910752-Lê Hoàng Anh_806364_assignsubmission_file_\\\\Lab2_1910752.zip', 'C:\\\\Users\\\\Binh Tran\\\\Downloads\\\\Assignment\\\\1911000-Đào Xuân Đạt_839439_assignsubmission_file_\\\\DaoXuanDat1911000.zip', 'C:\\\\Users\\\\Binh Tran\\\\Downloads\\\\Assignment\\\\1911105-Trần Đình Gia Hải_806391_assignsubmission_file_\\\\Trần Đình Gia Hải_1911105_L05_Problem6.zip', 'C:\\\\Users\\\\Binh Tran\\\\Downloads\\\\Assignment\\\\1911262-Trần Quang Huy_839453_assignsubmission_file_\\\\Assignment_1911262.zip', 'C:\\\\Users\\\\Binh Tran\\\\Downloads\\\\Assignment\\\\1911296-Đặng Phước Vĩnh Hưng_839393_assignsubmission_file_\\\\Assignment_Problem2.zip', 'C:\\\\Users\\\\Binh Tran\\\\Downloads\\\\Assignment\\\\1911478-Trần Nguyên Lâm_839454_assignsubmission_file_\\\\assignment_1911900_1911217_1911478.zip', 'C:\\\\Users\\\\Binh Tran\\\\Downloads\\\\Assignment\\\\1911565-Cao Thị Thanh Mai_839394_assignsubmission_file_\\\\Assignment_submission.zip', 'C:\\\\Users\\\\Binh Tran\\\\Downloads\\\\Assignment\\\\1911736-Võ Trịnh Xuân Nguyên_839437_assignsubmission_file_\\\\BTL_KTMT.zip', 'C:\\\\Users\\\\Binh Tran\\\\Downloads\\\\Assignment\\\\1911841-Nguyễn Trung Phong_839372_assignsubmission_file_\\\\Assignment.zip', 'C:\\\\Users\\\\Binh Tran\\\\Downloads\\\\Assignment\\\\1911881-Võ Hồng Phúc_839426_assignsubmission_file_\\\\Problem03_L08.zip', 'C:\\\\Users\\\\Binh Tran\\\\Downloads\\\\Assignment\\\\1912084-Đặng Quốc Thắng_839408_assignsubmission_file_\\\\1912084-1912041-1911363.zip', 'C:\\\\Users\\\\Binh Tran\\\\Downloads\\\\Assignment\\\\1912410-Nguyễn Duy Uyên_839482_assignsubmission_file_\\\\CO2007_L08_1912410_1912184_1910916.zip', 'C:\\\\Users\\\\Binh Tran\\\\Downloads\\\\Assignment\\\\1912463-Phạm Hoàng Vũ_839382_assignsubmission_file_\\\\Asg_1912463_1911937_1911878.zip', 'C:\\\\Users\\\\Binh Tran\\\\Downloads\\\\Assignment\\\\1913102-Lê Bình Đẳng_839462_assignsubmission_file_\\\\L05-Bao-cao-BTL.zip', 'C:\\\\Users\\\\Binh Tran\\\\Downloads\\\\Assignment\\\\1914055-Lê Đình Luân_839431_assignsubmission_file_\\\\BTL_KTMT_L05_problem5.zip', 'C:\\\\Users\\\\Binh Tran\\\\Downloads\\\\Assignment\\\\1915351-Cao Minh Thông_839433_assignsubmission_file_\\\\Computer Architecture.zip', 'C:\\\\Users\\\\Binh Tran\\\\Downloads\\\\Assignment\\\\1915390-Nông Trọng Thuyên_839480_assignsubmission_file_\\\\ASSIGMENT1_PROBLEM_5_NHOM_NONG TRONG THUYEN.zip', 'C:\\\\Users\\\\Binh Tran\\\\Downloads\\\\Assignment\\\\1915482-Nguyễn Huỳnh Tiến_839390_assignsubmission_file_\\\\BTL_KTMT.zip', 'C:\\\\Users\\\\Binh Tran\\\\Downloads\\\\Assignment\\\\1927038-Trần Phương Tĩnh_839381_assignsubmission_file_\\\\problem2-1927038-1920058.zip']\n",
      "['C:\\\\Users\\\\Binh Tran\\\\Downloads\\\\Assignment\\\\1449529-Phạm Bùi Hải Thanh_839461_assignsubmission_file_', 'C:\\\\Users\\\\Binh Tran\\\\Downloads\\\\Assignment\\\\1812915-Nguyễn Phi Long_839404_assignsubmission_file_', 'C:\\\\Users\\\\Binh Tran\\\\Downloads\\\\Assignment\\\\1813952-Huỳnh Ngọc Tấn_839425_assignsubmission_file_', 'C:\\\\Users\\\\Binh Tran\\\\Downloads\\\\Assignment\\\\1910094-Trần Đức Duy_806382_assignsubmission_file_', 'C:\\\\Users\\\\Binh Tran\\\\Downloads\\\\Assignment\\\\1910137-Nguyễn Huỳnh Đức_806361_assignsubmission_file_', 'C:\\\\Users\\\\Binh Tran\\\\Downloads\\\\Assignment\\\\1910202-Lê Gia Huy_806372_assignsubmission_file_', 'C:\\\\Users\\\\Binh Tran\\\\Downloads\\\\Assignment\\\\1910351-Đặng Nguyễn Xuân Nam_806362_assignsubmission_file_', 'C:\\\\Users\\\\Binh Tran\\\\Downloads\\\\Assignment\\\\1910409-Võ Nguyễn Thiện Nhân_806384_assignsubmission_file_', 'C:\\\\Users\\\\Binh Tran\\\\Downloads\\\\Assignment\\\\1911015-Nguyễn Tấn Đạt_839418_assignsubmission_file_', 'C:\\\\Users\\\\Binh Tran\\\\Downloads\\\\Assignment\\\\1911530-Nguyễn Kim Lộc_839387_assignsubmission_file_', 'C:\\\\Users\\\\Binh Tran\\\\Downloads\\\\Assignment\\\\1911704-Nguyễn Thủy Ngọc_839479_assignsubmission_file_', 'C:\\\\Users\\\\Binh Tran\\\\Downloads\\\\Assignment\\\\1913579-Vũ Quốc Huy_839423_assignsubmission_file_', 'C:\\\\Users\\\\Binh Tran\\\\Downloads\\\\Assignment\\\\1915656-Ngô Đức Trí_839467_assignsubmission_file_', 'C:\\\\Users\\\\Binh Tran\\\\Downloads\\\\Assignment\\\\1915666-Trần Quang Trí_839365_assignsubmission_file_', 'C:\\\\Users\\\\Binh Tran\\\\Downloads\\\\Assignment\\\\1927001-Lê Nhựt Anh_806380_assignsubmission_file_', 'C:\\\\Users\\\\Binh Tran\\\\Downloads\\\\Assignment\\\\1710162-Nguyễn Quang Lâm_839395_assignsubmission_file_', 'C:\\\\Users\\\\Binh Tran\\\\Downloads\\\\Assignment\\\\1811486-Trần Long Ẩn_806368_assignsubmission_file_', 'C:\\\\Users\\\\Binh Tran\\\\Downloads\\\\Assignment\\\\1812336-Bùi Đức Huy_806383_assignsubmission_file_', 'C:\\\\Users\\\\Binh Tran\\\\Downloads\\\\Assignment\\\\1813449-Nguyễn Sinh Nhựt_839436_assignsubmission_file_', 'C:\\\\Users\\\\Binh Tran\\\\Downloads\\\\Assignment\\\\1814038-Võ Công Thành_806388_assignsubmission_file_', 'C:\\\\Users\\\\Binh Tran\\\\Downloads\\\\Assignment\\\\1814812-Lê Tuấn Vũ_839442_assignsubmission_file_', 'C:\\\\Users\\\\Binh Tran\\\\Downloads\\\\Assignment\\\\1910113-Nguyễn Thành Đạt_806374_assignsubmission_file_', 'C:\\\\Users\\\\Binh Tran\\\\Downloads\\\\Assignment\\\\1910276-Võ Văn Đăng Khoa_806397_assignsubmission_file_', 'C:\\\\Users\\\\Binh Tran\\\\Downloads\\\\Assignment\\\\1910617-Nguyễn Thanh Toàn_806396_assignsubmission_file_', 'C:\\\\Users\\\\Binh Tran\\\\Downloads\\\\Assignment\\\\1910620-Nguyễn Kim Phương Trang_806385_assignsubmission_file_', 'C:\\\\Users\\\\Binh Tran\\\\Downloads\\\\Assignment\\\\1910644-Nguyễn Hoàng Trung_806371_assignsubmission_file_', 'C:\\\\Users\\\\Binh Tran\\\\Downloads\\\\Assignment\\\\1910752-Lê Hoàng Anh_806364_assignsubmission_file_', 'C:\\\\Users\\\\Binh Tran\\\\Downloads\\\\Assignment\\\\1911000-Đào Xuân Đạt_839439_assignsubmission_file_', 'C:\\\\Users\\\\Binh Tran\\\\Downloads\\\\Assignment\\\\1911105-Trần Đình Gia Hải_806391_assignsubmission_file_', 'C:\\\\Users\\\\Binh Tran\\\\Downloads\\\\Assignment\\\\1911262-Trần Quang Huy_839453_assignsubmission_file_', 'C:\\\\Users\\\\Binh Tran\\\\Downloads\\\\Assignment\\\\1911296-Đặng Phước Vĩnh Hưng_839393_assignsubmission_file_', 'C:\\\\Users\\\\Binh Tran\\\\Downloads\\\\Assignment\\\\1911478-Trần Nguyên Lâm_839454_assignsubmission_file_', 'C:\\\\Users\\\\Binh Tran\\\\Downloads\\\\Assignment\\\\1911565-Cao Thị Thanh Mai_839394_assignsubmission_file_', 'C:\\\\Users\\\\Binh Tran\\\\Downloads\\\\Assignment\\\\1911736-Võ Trịnh Xuân Nguyên_839437_assignsubmission_file_', 'C:\\\\Users\\\\Binh Tran\\\\Downloads\\\\Assignment\\\\1911841-Nguyễn Trung Phong_839372_assignsubmission_file_', 'C:\\\\Users\\\\Binh Tran\\\\Downloads\\\\Assignment\\\\1911881-Võ Hồng Phúc_839426_assignsubmission_file_', 'C:\\\\Users\\\\Binh Tran\\\\Downloads\\\\Assignment\\\\1912084-Đặng Quốc Thắng_839408_assignsubmission_file_', 'C:\\\\Users\\\\Binh Tran\\\\Downloads\\\\Assignment\\\\1912410-Nguyễn Duy Uyên_839482_assignsubmission_file_', 'C:\\\\Users\\\\Binh Tran\\\\Downloads\\\\Assignment\\\\1912463-Phạm Hoàng Vũ_839382_assignsubmission_file_', 'C:\\\\Users\\\\Binh Tran\\\\Downloads\\\\Assignment\\\\1913102-Lê Bình Đẳng_839462_assignsubmission_file_', 'C:\\\\Users\\\\Binh Tran\\\\Downloads\\\\Assignment\\\\1914055-Lê Đình Luân_839431_assignsubmission_file_', 'C:\\\\Users\\\\Binh Tran\\\\Downloads\\\\Assignment\\\\1915351-Cao Minh Thông_839433_assignsubmission_file_', 'C:\\\\Users\\\\Binh Tran\\\\Downloads\\\\Assignment\\\\1915390-Nông Trọng Thuyên_839480_assignsubmission_file_', 'C:\\\\Users\\\\Binh Tran\\\\Downloads\\\\Assignment\\\\1915482-Nguyễn Huỳnh Tiến_839390_assignsubmission_file_', 'C:\\\\Users\\\\Binh Tran\\\\Downloads\\\\Assignment\\\\1927038-Trần Phương Tĩnh_839381_assignsubmission_file_']\n"
     ]
    }
   ],
   "source": [
    "from pathlib import Path\n",
    "\n",
    "glob_path = Path(r\"C:\\Users\\Binh Tran\\Downloads\\HK201_Chap2.2.MIPS_ISA_Control\")\n",
    "glob_path = Path(r\"C:\\Users\\Binh Tran\\Downloads\\Assignment\")\n",
    "file_list = [str(pp) for pp in glob_path.glob(\"**/*.asm\")]\n",
    "rar_list = [str(pp) for pp in glob_path.glob(\"**/*.rar\")]\n",
    "zip_list = [str(pp) for pp in glob_path.glob(\"**/*.zip\")]\n",
    "zip_paths = rar_list + zip_list\n",
    "\n",
    "zip_dirs = []\n",
    "import os\n",
    "for path in zip_paths:\n",
    "    zip_dirs.append(os.path.dirname(path))\n",
    "print(zip_paths)\n",
    "print(zip_dirs)\n"
   ]
  },
  {
   "cell_type": "code",
   "execution_count": 2,
   "metadata": {},
   "outputs": [],
   "source": [
    "# write file\n",
    "import io\n",
    "\n",
    "with io.open(\"asm_flie.txt\",'w',encoding='utf8') as f:\n",
    "    for str_line in file_list:\n",
    "        f.write(\"\\\"\" + str_line + \"\\\" \")\n",
    "f.close()"
   ]
  },
  {
   "cell_type": "code",
   "execution_count": 3,
   "metadata": {},
   "outputs": [
    {
     "data": {
      "text/plain": [
       "['\"C:\\\\Program Files\\\\WinRAR\\\\WinRAR.exe\" x \"C:\\\\Users\\\\Binh Tran\\\\Downloads\\\\HK201_Chap2.2.MIPS_ISA_Control\\\\1449529-Phạm Bùi Hải Thanh_804707_assignsubmission_file_\\\\Lab3_1449529.rar\" \"C:\\\\Users\\\\Binh Tran\\\\Downloads\\\\HK201_Chap2.2.MIPS_ISA_Control\\\\1449529-Phạm Bùi Hải Thanh_804707_assignsubmission_file_',\n",
       " '\"C:\\\\Program Files\\\\WinRAR\\\\WinRAR.exe\" x \"C:\\\\Users\\\\Binh Tran\\\\Downloads\\\\HK201_Chap2.2.MIPS_ISA_Control\\\\1812915-Nguyễn Phi Long_811221_assignsubmission_file_\\\\LAB3_1812915.rar\" \"C:\\\\Users\\\\Binh Tran\\\\Downloads\\\\HK201_Chap2.2.MIPS_ISA_Control\\\\1812915-Nguyễn Phi Long_811221_assignsubmission_file_',\n",
       " '\"C:\\\\Program Files\\\\WinRAR\\\\WinRAR.exe\" x \"C:\\\\Users\\\\Binh Tran\\\\Downloads\\\\HK201_Chap2.2.MIPS_ISA_Control\\\\1813952-Huỳnh Ngọc Tấn_804684_assignsubmission_file_\\\\Lab3-1813952.rar\" \"C:\\\\Users\\\\Binh Tran\\\\Downloads\\\\HK201_Chap2.2.MIPS_ISA_Control\\\\1813952-Huỳnh Ngọc Tấn_804684_assignsubmission_file_',\n",
       " '\"C:\\\\Program Files\\\\WinRAR\\\\WinRAR.exe\" x \"C:\\\\Users\\\\Binh Tran\\\\Downloads\\\\HK201_Chap2.2.MIPS_ISA_Control\\\\1910238-Nguyễn Duy Khang_811178_assignsubmission_file_\\\\Lab3_1910238.rar\" \"C:\\\\Users\\\\Binh Tran\\\\Downloads\\\\HK201_Chap2.2.MIPS_ISA_Control\\\\1910238-Nguyễn Duy Khang_811178_assignsubmission_file_',\n",
       " '\"C:\\\\Program Files\\\\WinRAR\\\\WinRAR.exe\" x \"C:\\\\Users\\\\Binh Tran\\\\Downloads\\\\HK201_Chap2.2.MIPS_ISA_Control\\\\1910276-Võ Văn Đăng Khoa_811223_assignsubmission_file_\\\\Lab3_1910276.rar\" \"C:\\\\Users\\\\Binh Tran\\\\Downloads\\\\HK201_Chap2.2.MIPS_ISA_Control\\\\1910276-Võ Văn Đăng Khoa_811223_assignsubmission_file_',\n",
       " '\"C:\\\\Program Files\\\\WinRAR\\\\WinRAR.exe\" x \"C:\\\\Users\\\\Binh Tran\\\\Downloads\\\\HK201_Chap2.2.MIPS_ISA_Control\\\\1910409-Võ Nguyễn Thiện Nhân_811225_assignsubmission_file_\\\\Lab3_1910409.rar\" \"C:\\\\Users\\\\Binh Tran\\\\Downloads\\\\HK201_Chap2.2.MIPS_ISA_Control\\\\1910409-Võ Nguyễn Thiện Nhân_811225_assignsubmission_file_',\n",
       " '\"C:\\\\Program Files\\\\WinRAR\\\\WinRAR.exe\" x \"C:\\\\Users\\\\Binh Tran\\\\Downloads\\\\HK201_Chap2.2.MIPS_ISA_Control\\\\1911363-Lê Bảo Khánh_804685_assignsubmission_file_\\\\Lab3_1911363.rar\" \"C:\\\\Users\\\\Binh Tran\\\\Downloads\\\\HK201_Chap2.2.MIPS_ISA_Control\\\\1911363-Lê Bảo Khánh_804685_assignsubmission_file_',\n",
       " '\"C:\\\\Program Files\\\\WinRAR\\\\WinRAR.exe\" x \"C:\\\\Users\\\\Binh Tran\\\\Downloads\\\\HK201_Chap2.2.MIPS_ISA_Control\\\\1911704-Nguyễn Thủy Ngọc_811214_assignsubmission_file_\\\\Lab3_1911704.rar\" \"C:\\\\Users\\\\Binh Tran\\\\Downloads\\\\HK201_Chap2.2.MIPS_ISA_Control\\\\1911704-Nguyễn Thủy Ngọc_811214_assignsubmission_file_',\n",
       " '\"C:\\\\Program Files\\\\WinRAR\\\\WinRAR.exe\" x \"C:\\\\Users\\\\Binh Tran\\\\Downloads\\\\HK201_Chap2.2.MIPS_ISA_Control\\\\1911841-Nguyễn Trung Phong_811227_assignsubmission_file_\\\\Lab3_1911841.rar\" \"C:\\\\Users\\\\Binh Tran\\\\Downloads\\\\HK201_Chap2.2.MIPS_ISA_Control\\\\1911841-Nguyễn Trung Phong_811227_assignsubmission_file_',\n",
       " '\"C:\\\\Program Files\\\\WinRAR\\\\WinRAR.exe\" x \"C:\\\\Users\\\\Binh Tran\\\\Downloads\\\\HK201_Chap2.2.MIPS_ISA_Control\\\\1911900-Đinh Gia Quang_811181_assignsubmission_file_\\\\Lab3_1911900.rar\" \"C:\\\\Users\\\\Binh Tran\\\\Downloads\\\\HK201_Chap2.2.MIPS_ISA_Control\\\\1911900-Đinh Gia Quang_811181_assignsubmission_file_',\n",
       " '\"C:\\\\Program Files\\\\WinRAR\\\\WinRAR.exe\" x \"C:\\\\Users\\\\Binh Tran\\\\Downloads\\\\HK201_Chap2.2.MIPS_ISA_Control\\\\1912056-Ngô Phúc Thành_804704_assignsubmission_file_\\\\Lab3_1912056.rar\" \"C:\\\\Users\\\\Binh Tran\\\\Downloads\\\\HK201_Chap2.2.MIPS_ISA_Control\\\\1912056-Ngô Phúc Thành_804704_assignsubmission_file_',\n",
       " '\"C:\\\\Program Files\\\\WinRAR\\\\WinRAR.exe\" x \"C:\\\\Users\\\\Binh Tran\\\\Downloads\\\\HK201_Chap2.2.MIPS_ISA_Control\\\\1912190-Nguyễn Mai Thy_811232_assignsubmission_file_\\\\Lab3_1912190.rar\" \"C:\\\\Users\\\\Binh Tran\\\\Downloads\\\\HK201_Chap2.2.MIPS_ISA_Control\\\\1912190-Nguyễn Mai Thy_811232_assignsubmission_file_',\n",
       " '\"C:\\\\Program Files\\\\WinRAR\\\\WinRAR.exe\" x \"C:\\\\Users\\\\Binh Tran\\\\Downloads\\\\HK201_Chap2.2.MIPS_ISA_Control\\\\1915656-Ngô Đức Trí_811250_assignsubmission_file_\\\\Lab3_1915656.rar\" \"C:\\\\Users\\\\Binh Tran\\\\Downloads\\\\HK201_Chap2.2.MIPS_ISA_Control\\\\1915656-Ngô Đức Trí_811250_assignsubmission_file_',\n",
       " '\"C:\\\\Program Files\\\\WinRAR\\\\WinRAR.exe\" x \"C:\\\\Users\\\\Binh Tran\\\\Downloads\\\\HK201_Chap2.2.MIPS_ISA_Control\\\\1915666-Trần Quang Trí_804692_assignsubmission_file_\\\\Lab2.2_1915666.rar\" \"C:\\\\Users\\\\Binh Tran\\\\Downloads\\\\HK201_Chap2.2.MIPS_ISA_Control\\\\1915666-Trần Quang Trí_804692_assignsubmission_file_',\n",
       " '\"C:\\\\Program Files\\\\WinRAR\\\\WinRAR.exe\" x \"C:\\\\Users\\\\Binh Tran\\\\Downloads\\\\HK201_Chap2.2.MIPS_ISA_Control\\\\1710162-Nguyễn Quang Lâm_811240_assignsubmission_file_\\\\Lab3_1710162.zip\" \"C:\\\\Users\\\\Binh Tran\\\\Downloads\\\\HK201_Chap2.2.MIPS_ISA_Control\\\\1710162-Nguyễn Quang Lâm_811240_assignsubmission_file_',\n",
       " '\"C:\\\\Program Files\\\\WinRAR\\\\WinRAR.exe\" x \"C:\\\\Users\\\\Binh Tran\\\\Downloads\\\\HK201_Chap2.2.MIPS_ISA_Control\\\\1810440-Lê Hoàng Phúc_811166_assignsubmission_file_\\\\Lab3_1810440.zip\" \"C:\\\\Users\\\\Binh Tran\\\\Downloads\\\\HK201_Chap2.2.MIPS_ISA_Control\\\\1810440-Lê Hoàng Phúc_811166_assignsubmission_file_',\n",
       " '\"C:\\\\Program Files\\\\WinRAR\\\\WinRAR.exe\" x \"C:\\\\Users\\\\Binh Tran\\\\Downloads\\\\HK201_Chap2.2.MIPS_ISA_Control\\\\1811486-Trần Long Ẩn_811209_assignsubmission_file_\\\\Lab3_1811486.zip\" \"C:\\\\Users\\\\Binh Tran\\\\Downloads\\\\HK201_Chap2.2.MIPS_ISA_Control\\\\1811486-Trần Long Ẩn_811209_assignsubmission_file_',\n",
       " '\"C:\\\\Program Files\\\\WinRAR\\\\WinRAR.exe\" x \"C:\\\\Users\\\\Binh Tran\\\\Downloads\\\\HK201_Chap2.2.MIPS_ISA_Control\\\\1811775-Lê Tiến Dũng_811217_assignsubmission_file_\\\\1811775-Lê Tiến Dũng.zip\" \"C:\\\\Users\\\\Binh Tran\\\\Downloads\\\\HK201_Chap2.2.MIPS_ISA_Control\\\\1811775-Lê Tiến Dũng_811217_assignsubmission_file_',\n",
       " '\"C:\\\\Program Files\\\\WinRAR\\\\WinRAR.exe\" x \"C:\\\\Users\\\\Binh Tran\\\\Downloads\\\\HK201_Chap2.2.MIPS_ISA_Control\\\\1813449-Nguyễn Sinh Nhựt_804672_assignsubmission_file_\\\\lab3_1813449.zip\" \"C:\\\\Users\\\\Binh Tran\\\\Downloads\\\\HK201_Chap2.2.MIPS_ISA_Control\\\\1813449-Nguyễn Sinh Nhựt_804672_assignsubmission_file_',\n",
       " '\"C:\\\\Program Files\\\\WinRAR\\\\WinRAR.exe\" x \"C:\\\\Users\\\\Binh Tran\\\\Downloads\\\\HK201_Chap2.2.MIPS_ISA_Control\\\\1814038-Võ Công Thành_811216_assignsubmission_file_\\\\Lab3_1814038.zip\" \"C:\\\\Users\\\\Binh Tran\\\\Downloads\\\\HK201_Chap2.2.MIPS_ISA_Control\\\\1814038-Võ Công Thành_811216_assignsubmission_file_',\n",
       " '\"C:\\\\Program Files\\\\WinRAR\\\\WinRAR.exe\" x \"C:\\\\Users\\\\Binh Tran\\\\Downloads\\\\HK201_Chap2.2.MIPS_ISA_Control\\\\1910123-Nguyễn Phùng Hải Đăng_811179_assignsubmission_file_\\\\Lab3_1910123.zip\" \"C:\\\\Users\\\\Binh Tran\\\\Downloads\\\\HK201_Chap2.2.MIPS_ISA_Control\\\\1910123-Nguyễn Phùng Hải Đăng_811179_assignsubmission_file_',\n",
       " '\"C:\\\\Program Files\\\\WinRAR\\\\WinRAR.exe\" x \"C:\\\\Users\\\\Binh Tran\\\\Downloads\\\\HK201_Chap2.2.MIPS_ISA_Control\\\\1910402-Lê Ngọc Minh Nhân_811168_assignsubmission_file_\\\\Lab3_1910402.zip\" \"C:\\\\Users\\\\Binh Tran\\\\Downloads\\\\HK201_Chap2.2.MIPS_ISA_Control\\\\1910402-Lê Ngọc Minh Nhân_811168_assignsubmission_file_',\n",
       " '\"C:\\\\Program Files\\\\WinRAR\\\\WinRAR.exe\" x \"C:\\\\Users\\\\Binh Tran\\\\Downloads\\\\HK201_Chap2.2.MIPS_ISA_Control\\\\1910644-Nguyễn Hoàng Trung_811218_assignsubmission_file_\\\\Lab3_1910644.zip\" \"C:\\\\Users\\\\Binh Tran\\\\Downloads\\\\HK201_Chap2.2.MIPS_ISA_Control\\\\1910644-Nguyễn Hoàng Trung_811218_assignsubmission_file_',\n",
       " '\"C:\\\\Program Files\\\\WinRAR\\\\WinRAR.exe\" x \"C:\\\\Users\\\\Binh Tran\\\\Downloads\\\\HK201_Chap2.2.MIPS_ISA_Control\\\\1910650-Nguyễn Ngô Thanh Trúc_811211_assignsubmission_file_\\\\Lab3_1910650.zip\" \"C:\\\\Users\\\\Binh Tran\\\\Downloads\\\\HK201_Chap2.2.MIPS_ISA_Control\\\\1910650-Nguyễn Ngô Thanh Trúc_811211_assignsubmission_file_',\n",
       " '\"C:\\\\Program Files\\\\WinRAR\\\\WinRAR.exe\" x \"C:\\\\Users\\\\Binh Tran\\\\Downloads\\\\HK201_Chap2.2.MIPS_ISA_Control\\\\1911262-Trần Quang Huy_811174_assignsubmission_file_\\\\Lab3_1911262.zip\" \"C:\\\\Users\\\\Binh Tran\\\\Downloads\\\\HK201_Chap2.2.MIPS_ISA_Control\\\\1911262-Trần Quang Huy_811174_assignsubmission_file_',\n",
       " '\"C:\\\\Program Files\\\\WinRAR\\\\WinRAR.exe\" x \"C:\\\\Users\\\\Binh Tran\\\\Downloads\\\\HK201_Chap2.2.MIPS_ISA_Control\\\\1911565-Cao Thị Thanh Mai_811161_assignsubmission_file_\\\\Lab3_1911565.zip\" \"C:\\\\Users\\\\Binh Tran\\\\Downloads\\\\HK201_Chap2.2.MIPS_ISA_Control\\\\1911565-Cao Thị Thanh Mai_811161_assignsubmission_file_',\n",
       " '\"C:\\\\Program Files\\\\WinRAR\\\\WinRAR.exe\" x \"C:\\\\Users\\\\Binh Tran\\\\Downloads\\\\HK201_Chap2.2.MIPS_ISA_Control\\\\1911736-Võ Trịnh Xuân Nguyên_811259_assignsubmission_file_\\\\Lab3_1911736.zip\" \"C:\\\\Users\\\\Binh Tran\\\\Downloads\\\\HK201_Chap2.2.MIPS_ISA_Control\\\\1911736-Võ Trịnh Xuân Nguyên_811259_assignsubmission_file_',\n",
       " '\"C:\\\\Program Files\\\\WinRAR\\\\WinRAR.exe\" x \"C:\\\\Users\\\\Binh Tran\\\\Downloads\\\\HK201_Chap2.2.MIPS_ISA_Control\\\\1912457-Mai Hoàng Anh Vũ_811176_assignsubmission_file_\\\\Lab3_1912457.zip\" \"C:\\\\Users\\\\Binh Tran\\\\Downloads\\\\HK201_Chap2.2.MIPS_ISA_Control\\\\1912457-Mai Hoàng Anh Vũ_811176_assignsubmission_file_',\n",
       " '\"C:\\\\Program Files\\\\WinRAR\\\\WinRAR.exe\" x \"C:\\\\Users\\\\Binh Tran\\\\Downloads\\\\HK201_Chap2.2.MIPS_ISA_Control\\\\1915351-Cao Minh Thông_811251_assignsubmission_file_\\\\1915351.zip\" \"C:\\\\Users\\\\Binh Tran\\\\Downloads\\\\HK201_Chap2.2.MIPS_ISA_Control\\\\1915351-Cao Minh Thông_811251_assignsubmission_file_',\n",
       " '\"C:\\\\Program Files\\\\WinRAR\\\\WinRAR.exe\" x \"C:\\\\Users\\\\Binh Tran\\\\Downloads\\\\HK201_Chap2.2.MIPS_ISA_Control\\\\1915390-Nông Trọng Thuyên_811256_assignsubmission_file_\\\\Lab3_1915390.zip\" \"C:\\\\Users\\\\Binh Tran\\\\Downloads\\\\HK201_Chap2.2.MIPS_ISA_Control\\\\1915390-Nông Trọng Thuyên_811256_assignsubmission_file_']"
      ]
     },
     "execution_count": 3,
     "metadata": {},
     "output_type": "execute_result"
    }
   ],
   "source": [
    "cmd_app = \"C:\\Program Files\\WinRAR\\WinRAR.exe\"\n",
    "cmd_options = \" x \"\n",
    "close_str = '\\\"'\n",
    "space_str = ' ' \n",
    "cmds = []\n",
    "for i in range(len(zip_dirs)):\n",
    "    cmds.append ( close_str + cmd_app + close_str + \n",
    "                 cmd_options +\n",
    "                 close_str + zip_paths[i] +close_str + space_str + \n",
    "                 close_str+zip_dirs[i]) \n",
    "cmds"
   ]
  },
  {
   "cell_type": "code",
   "execution_count": 10,
   "metadata": {},
   "outputs": [],
   "source": [
    "moss_app = r\"C:\\Users\\Binh Tran\\OneDrive - hcmut.edu.vn\\07.MyScript&tools\\moss.perl\"\n",
    "\n",
    "moss_cmd = \"perl \\\"\" + moss_app + \"\\\" -l mips \"\n",
    "\n",
    "moss_cmd\n",
    "asm_files =''\n",
    "for str_line in file_list:\n",
    "    asm_files += \"\\\"\" + str_line + \"\\\" \"\n",
    "moss_cmd += asm_files\n",
    "\n",
    "with io.open(\"moss_cmd.txt\",'w',encoding='utf8') as f:\n",
    "    f.write(moss_cmd)\n",
    "f.close()"
   ]
  },
  {
   "cell_type": "code",
   "execution_count": 8,
   "metadata": {},
   "outputs": [
    {
     "data": {
      "text/plain": [
       "CompletedProcess(args='perl \"C:\\\\Users\\\\Binh Tran\\\\OneDrive - hcmut.edu.vn\\\\07.MyScript&tools\\\\moss.perl\" -l mips \"C:\\\\Users\\\\Binh Tran\\\\Downloads\\\\HK201_Chap2.2.MIPS_ISA_Control\\\\1449529-Phạm Bùi Hải Thanh_804707_assignsubmission_file_\\\\Bai1.asm\" \"C:\\\\Users\\\\Binh Tran\\\\Downloads\\\\HK201_Chap2.2.MIPS_ISA_Control\\\\1449529-Phạm Bùi Hải Thanh_804707_assignsubmission_file_\\\\Bai2.asm', returncode=1, stdout=b'', stderr=b\"'perl' is not recognized as an internal or external command,\\r\\noperable program or batch file.\\r\\n\")"
      ]
     },
     "execution_count": 8,
     "metadata": {},
     "output_type": "execute_result"
    }
   ],
   "source": [
    "import subprocess\n",
    "#for cmd in cmds:\n",
    "#    subprocess.call(cmd, shell=True)\n",
    "# extract all zip file\n",
    "\n",
    "subprocess.run(moss_cmd, shell=True,capture_output=True)"
   ]
  }
 ],
 "metadata": {
  "kernelspec": {
   "display_name": "Python 3",
   "language": "python",
   "name": "python3"
  },
  "language_info": {
   "codemirror_mode": {
    "name": "ipython",
    "version": 3
   },
   "file_extension": ".py",
   "mimetype": "text/x-python",
   "name": "python",
   "nbconvert_exporter": "python",
   "pygments_lexer": "ipython3",
   "version": "3.7.4"
  }
 },
 "nbformat": 4,
 "nbformat_minor": 2
}
