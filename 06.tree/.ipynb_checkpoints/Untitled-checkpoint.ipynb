{
 "cells": [
  {
   "cell_type": "code",
   "execution_count": 36,
   "metadata": {},
   "outputs": [
    {
     "name": "stdout",
     "output_type": "stream",
     "text": [
      "http://hdgsnn.gov.vn/files/\n"
     ]
    }
   ],
   "source": [
    "from io import BytesIO\n",
    "import pycurl\n",
    "\n",
    "try:\n",
    "    # python 3\n",
    "    from urllib.parse import urlencode\n",
    "except ImportError:\n",
    "    # python 2\n",
    "    from urllib import urlencode\n",
    "    \n",
    "link = 'http://hdgsnn.gov.vn/files/'\n",
    "def get_data(link):\n",
    "    buffer = BytesIO()\n",
    "    print(link)\n",
    "    c = pycurl.Curl()\n",
    "    c.setopt(c.URL, link)\n",
    "    c.setopt(c.WRITEDATA, buffer)\n",
    "    c.perform()\n",
    "    c.close()\n",
    "    #print(buffer.getvalue().decode())\n",
    "    return buffer.getvalue().decode()\n",
    "\n",
    "body = get_data(link)"
   ]
  },
  {
   "cell_type": "code",
   "execution_count": 37,
   "metadata": {},
   "outputs": [],
   "source": [
    "from bs4 import BeautifulSoup\n",
    "\n",
    "def parse_line(body):\n",
    "    webdata = BeautifulSoup(body, \"lxml\")\n",
    "    linestr =[]\n",
    "    #print(webdata)\n",
    "    if webdata != -1:\n",
    "        rows = webdata.find_all('a')\n",
    "        for row in rows:\n",
    "            #print (row.get('href').strip())\n",
    "            linestr.append(row.get('href').strip())\n",
    "    #print (linestr)\n",
    "    return linestr\n",
    "\n",
    "data = parse_line(body)"
   ]
  },
  {
   "cell_type": "code",
   "execution_count": null,
   "metadata": {},
   "outputs": [],
   "source": [
    "# check if given link is parent link\n",
    "def isparentlink(givenlink):\n",
    "    if givenlink[0] == '/':\n",
    "        return True\n",
    "    return False\n",
    "\n",
    "# check if given link is folder link\n",
    "def isfolderlink(givenlink):\n",
    "    if givenlink[-1] == '/':\n",
    "        return True\n",
    "    return False"
   ]
  },
  {
   "cell_type": "code",
   "execution_count": 46,
   "metadata": {},
   "outputs": [
    {
     "name": "stdout",
     "output_type": "stream",
     "text": [
      "['http://hdgsnn.gov.vn/files/']\n",
      "Parent\n",
      "None\n",
      "Current\n",
      "http://hdgsnn.gov.vn/files/\n",
      "Link:http://hdgsnn.gov.vn/files/\n",
      "http://hdgsnn.gov.vn/files/\n",
      "Parent\n",
      "Node(tag=http://hdgsnn.gov.vn/files/, identifier=http://hdgsnn.gov.vn/files/, data=None)\n",
      "Current\n",
      "anhbaiviet/\n",
      "Link:http://hdgsnn.gov.vn/files/anhbaiviet/\n",
      "http://hdgsnn.gov.vn/files/anhbaiviet/\n",
      "Parent\n",
      "Node(tag=http://hdgsnn.gov.vn/files/, identifier=http://hdgsnn.gov.vn/files/, data=None)\n",
      "Current\n",
      "anhbanner/\n",
      "Link:http://hdgsnn.gov.vn/files/anhbanner/\n",
      "http://hdgsnn.gov.vn/files/anhbanner/\n"
     ]
    },
    {
     "ename": "DuplicatedNodeIdError",
     "evalue": "Can't create node with ID '/files/'",
     "output_type": "error",
     "traceback": [
      "\u001b[1;31m---------------------------------------------------------------------------\u001b[0m",
      "\u001b[1;31mDuplicatedNodeIdError\u001b[0m                     Traceback (most recent call last)",
      "\u001b[1;32m<ipython-input-46-ef798fbd3d49>\u001b[0m in \u001b[0;36m<module>\u001b[1;34m\u001b[0m\n\u001b[0;32m     36\u001b[0m                 \u001b[1;32mcontinue\u001b[0m\u001b[1;33m\u001b[0m\u001b[1;33m\u001b[0m\u001b[0m\n\u001b[0;32m     37\u001b[0m             \u001b[1;32melse\u001b[0m\u001b[1;33m:\u001b[0m\u001b[1;33m\u001b[0m\u001b[1;33m\u001b[0m\u001b[0m\n\u001b[1;32m---> 38\u001b[1;33m                 \u001b[0mtree\u001b[0m\u001b[1;33m.\u001b[0m\u001b[0mcreate_node\u001b[0m\u001b[1;33m(\u001b[0m\u001b[0mfolder\u001b[0m\u001b[1;33m,\u001b[0m \u001b[0mfolder\u001b[0m\u001b[1;33m,\u001b[0m \u001b[0mparent\u001b[0m\u001b[1;33m=\u001b[0m\u001b[0mcurrent\u001b[0m\u001b[1;33m)\u001b[0m\u001b[1;33m\u001b[0m\u001b[1;33m\u001b[0m\u001b[0m\n\u001b[0m\u001b[0;32m     39\u001b[0m                 \u001b[1;31m# add all sub links to list\u001b[0m\u001b[1;33m\u001b[0m\u001b[1;33m\u001b[0m\u001b[1;33m\u001b[0m\u001b[0m\n\u001b[0;32m     40\u001b[0m                 \u001b[0mlistpaths\u001b[0m\u001b[1;33m.\u001b[0m\u001b[0mappend\u001b[0m\u001b[1;33m(\u001b[0m\u001b[0mfolder\u001b[0m\u001b[1;33m)\u001b[0m\u001b[1;33m\u001b[0m\u001b[1;33m\u001b[0m\u001b[0m\n",
      "\u001b[1;32m~\\Anaconda3\\lib\\site-packages\\treelib\\tree.py\u001b[0m in \u001b[0;36mcreate_node\u001b[1;34m(self, tag, identifier, parent, data)\u001b[0m\n\u001b[0;32m    370\u001b[0m         \"\"\"\n\u001b[0;32m    371\u001b[0m         \u001b[0mnode\u001b[0m \u001b[1;33m=\u001b[0m \u001b[0mself\u001b[0m\u001b[1;33m.\u001b[0m\u001b[0mnode_class\u001b[0m\u001b[1;33m(\u001b[0m\u001b[0mtag\u001b[0m\u001b[1;33m=\u001b[0m\u001b[0mtag\u001b[0m\u001b[1;33m,\u001b[0m \u001b[0midentifier\u001b[0m\u001b[1;33m=\u001b[0m\u001b[0midentifier\u001b[0m\u001b[1;33m,\u001b[0m \u001b[0mdata\u001b[0m\u001b[1;33m=\u001b[0m\u001b[0mdata\u001b[0m\u001b[1;33m)\u001b[0m\u001b[1;33m\u001b[0m\u001b[1;33m\u001b[0m\u001b[0m\n\u001b[1;32m--> 372\u001b[1;33m         \u001b[0mself\u001b[0m\u001b[1;33m.\u001b[0m\u001b[0madd_node\u001b[0m\u001b[1;33m(\u001b[0m\u001b[0mnode\u001b[0m\u001b[1;33m,\u001b[0m \u001b[0mparent\u001b[0m\u001b[1;33m)\u001b[0m\u001b[1;33m\u001b[0m\u001b[1;33m\u001b[0m\u001b[0m\n\u001b[0m\u001b[0;32m    373\u001b[0m         \u001b[1;32mreturn\u001b[0m \u001b[0mnode\u001b[0m\u001b[1;33m\u001b[0m\u001b[1;33m\u001b[0m\u001b[0m\n\u001b[0;32m    374\u001b[0m \u001b[1;33m\u001b[0m\u001b[0m\n",
      "\u001b[1;32m~\\Anaconda3\\lib\\site-packages\\treelib\\tree.py\u001b[0m in \u001b[0;36madd_node\u001b[1;34m(self, node, parent)\u001b[0m\n\u001b[0;32m    294\u001b[0m         \u001b[1;32mif\u001b[0m \u001b[0mnode\u001b[0m\u001b[1;33m.\u001b[0m\u001b[0midentifier\u001b[0m \u001b[1;32min\u001b[0m \u001b[0mself\u001b[0m\u001b[1;33m.\u001b[0m\u001b[0m_nodes\u001b[0m\u001b[1;33m:\u001b[0m\u001b[1;33m\u001b[0m\u001b[1;33m\u001b[0m\u001b[0m\n\u001b[0;32m    295\u001b[0m             raise DuplicatedNodeIdError(\"Can't create node \"\n\u001b[1;32m--> 296\u001b[1;33m                                         \"with ID '%s'\" % node.identifier)\n\u001b[0m\u001b[0;32m    297\u001b[0m \u001b[1;33m\u001b[0m\u001b[0m\n\u001b[0;32m    298\u001b[0m         pid = parent.identifier if isinstance(\n",
      "\u001b[1;31mDuplicatedNodeIdError\u001b[0m: Can't create node with ID '/files/'"
     ]
    }
   ],
   "source": [
    "from treelib import Node, Tree\n",
    "listpaths = []\n",
    "website_link = 'http://hdgsnn.gov.vn/files/'\n",
    "listpaths.append(website_link)\n",
    "\n",
    "tree = Tree()\n",
    "\n",
    "# add link as root\n",
    "tree.create_node(website_link, website_link)  # root node\n",
    "print (listpaths)\n",
    "while len(listpaths) > 0:\n",
    "    current = listpaths.pop(0)\n",
    "    \n",
    "    # resovle link\n",
    "    parent = tree.parent(current)\n",
    "    link = current\n",
    "    print (\"Parent\")\n",
    "    print (parent)\n",
    "    print (\"Current\")\n",
    "    print (current)\n",
    "    while parent is not None:\n",
    "        link = parent.tag  + link\n",
    "        parent = tree.parent(parent.identifier)\n",
    "        \n",
    "    print (\"Link:\" + link)\n",
    "    \n",
    "    \n",
    "    # get sub links all\n",
    "    if isfolderlink(link):  # parent is folder then get its contents, if not (file in this case) skip it\n",
    "        body = get_data(link)\n",
    "        children = parse_line(body)\n",
    "\n",
    "        # add all link to stack stack folder into\n",
    "        for folder in children:\n",
    "            if isparentlink(folder):    # skip parents folder\n",
    "                continue\n",
    "            else:\n",
    "                tree.create_node(folder, folder, parent=current)\n",
    "                # add all sub links to list\n",
    "                if isparentfolder(folder):\n",
    "                    listpaths.append(folder)\n",
    "\n",
    "    \n",
    "tree.show()"
   ]
  },
  {
   "cell_type": "code",
   "execution_count": null,
   "metadata": {},
   "outputs": [],
   "source": []
  }
 ],
 "metadata": {
  "kernelspec": {
   "display_name": "Python 3",
   "language": "python",
   "name": "python3"
  },
  "language_info": {
   "codemirror_mode": {
    "name": "ipython",
    "version": 3
   },
   "file_extension": ".py",
   "mimetype": "text/x-python",
   "name": "python",
   "nbconvert_exporter": "python",
   "pygments_lexer": "ipython3",
   "version": "3.7.4"
  }
 },
 "nbformat": 4,
 "nbformat_minor": 2
}
