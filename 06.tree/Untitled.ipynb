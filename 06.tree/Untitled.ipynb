{
 "cells": [
  {
   "cell_type": "code",
   "execution_count": 7,
   "metadata": {},
   "outputs": [
    {
     "name": "stdout",
     "output_type": "stream",
     "text": [
      "http://1506.unknownsecret.info/mp3/\n"
     ]
    }
   ],
   "source": [
    "from io import BytesIO\n",
    "import pycurl\n",
    "\n",
    "try:\n",
    "    # python 3\n",
    "    from urllib.parse import urlencode\n",
    "except ImportError:\n",
    "    # python 2\n",
    "    from urllib import urlencode\n",
    "    \n",
    "link = 'http://hdgsnn.gov.vn/files/'\n",
    "link = 'http://1506.unknownsecret.info/mp3/'\n",
    "def get_data(link):\n",
    "    buffer = BytesIO()\n",
    "    print(link)\n",
    "    c = pycurl.Curl()\n",
    "    c.setopt(c.URL, link)\n",
    "    c.setopt(c.WRITEDATA, buffer)\n",
    "    c.perform()\n",
    "    c.close()\n",
    "    #print(buffer.getvalue().decode())\n",
    "    return buffer.getvalue().decode()\n",
    "\n",
    "body = get_data(link)"
   ]
  },
  {
   "cell_type": "code",
   "execution_count": 9,
   "metadata": {},
   "outputs": [
    {
     "name": "stdout",
     "output_type": "stream",
     "text": [
      "['/Terms.html']\n"
     ]
    }
   ],
   "source": [
    "from bs4 import BeautifulSoup\n",
    "\n",
    "def parse_line(body):\n",
    "    webdata = BeautifulSoup(body, \"lxml\")\n",
    "    linestr =[]\n",
    "    #print(webdata)\n",
    "    if webdata != -1:\n",
    "        rows = webdata.find_all('a')\n",
    "        for row in rows:\n",
    "            #print (row.get('href').strip())\n",
    "            linestr.append(row.get('href').strip())\n",
    "    print (linestr)\n",
    "    return linestr\n",
    "\n",
    "data = parse_line(body)"
   ]
  },
  {
   "cell_type": "code",
   "execution_count": 3,
   "metadata": {},
   "outputs": [],
   "source": [
    "# check if given link is parent link\n",
    "def isparentlink(givenlink):\n",
    "    if givenlink[0] == '/':\n",
    "        return True\n",
    "    return False\n",
    "\n",
    "# check if given link is folder link\n",
    "def isfolderlink(givenlink):\n",
    "    if givenlink[-1] == '/':\n",
    "        return True\n",
    "    return False\n",
    "\n",
    "# resovle link from a tree\n",
    "def getlink(currentnode):\n",
    "    #get parent    \n",
    "    parent = tree.parent(currentnode.identifier)\n",
    "    ln = currentnode.tag\n",
    "    \n",
    "    while parent is not None:\n",
    "        ln = parent.tag  + ln\n",
    "        parent = tree.parent(parent.identifier)\n",
    "        \n",
    "    #print (\"Link:\" + ln)\n",
    "    return ln"
   ]
  },
  {
   "cell_type": "code",
   "execution_count": 11,
   "metadata": {},
   "outputs": [
    {
     "name": "stdout",
     "output_type": "stream",
     "text": [
      "http://1506.unknownsecret.info/mp3/\n",
      "['http://8643.unknownsecret.info/mp3/', 'http://639.unknownsecret.info/mp3/', 'http://9497.unknownsecret.info/mp3/', 'http://892.unknownsecret.info/mp3/', '/mp3/../', '/mp3/Abnormal+Boyz/', '/mp3/Absolute+Boyfriend/', '/mp3/Accu+feat.+Laura+N%C3%A4rhi/', '/mp3/Alcatraz/', '/mp3/American+Folk/', '/mp3/Angelo+Debarre/', '/mp3/Antiserum+%26+Mayhem/', '/mp3/Banabila%E2%81%84Vloeimans/', '/mp3/Baxter+Rhodes/', '/mp3/Bittered/', '/mp3/Black+Ivory/', '/mp3/Blacklist/', '/mp3/Blind+Bat/', '/mp3/Blood+Rainbow/', '/mp3/Bojoura/', '/mp3/Boris+Vian+%E2%81%84+Michael+Maertens/', '/mp3/Brian+Seymour/', '/mp3/Broken+Gravestones/', '/mp3/Brother+Bear/', '/mp3/Captain+Ahab+%E2%81%84+The+Toecutter/', '/mp3/Carlo+Savina+and+His+Orchestra/', '/mp3/Casket+Girls/', '/mp3/Cassandra+Jenkins/', '/mp3/CeeLo+Green/', '/mp3/Charles+Afton/', '/mp3/Chloe+Juliette+Beswick/', '/mp3/Conjunto+Universal/', '/mp3/Count+Ossie+%26+The+Mystic+Revelation+of+Rastafari/', '/mp3/Dan+Ovan/', '/mp3/Darkiel/', '/mp3/Devilish+Era/', '/mp3/Devon+James+feat.+Avianna+Acid/', '/mp3/Diego+Torres+featuring+Rachel+Platten/', '/mp3/Disphoria/', '/mp3/Dobrek+%E2%80%93+Biz+%E2%80%93+Abado+%E2%80%93+Neuwirth+%E2%80%93+Corr%C3%AAa/', '/mp3/docks/', '/mp3/Doug+Astrop/', '/mp3/Dow+Jones+%26+The+Industrials/', '/mp3/Dudley+Moore%2C+Michael+Tilson+Thomas%2C+James+Galway%2C+Marisa+Robles/', '/mp3/Dustin+Smith/', '/mp3/Eesti+Gun/', '/mp3/Electric+Eels/', '/mp3/Eleven/', '/mp3/EvilDead/', '/mp3/Faux+Fir+%26+The+Fatty+Acids/', '/mp3/Fiend+Cats/', '/mp3/Flaamingos+%E2%81%84+The+KVB/', '/mp3/Fortunate+Youth/', '/mp3/Fortunetellers/', '/mp3/Franck%3B+New+York+Philharmonic%2C+Kurt+Masur/', '/mp3/Furnier/', '/mp3/Ghost+Medicine/', '/mp3/Govert+Schilling/', '/mp3/Gowan/', '/mp3/Guvna+Dub/', '/mp3/GZA%E2%81%84Genius+feat.+Tom+Morello/', '/mp3/G%C3%A9rard+Gesina+%26+Philippe+Brejean/', '/mp3/Hacia+Donde/', '/mp3/Haydn%3B+Royal+Philharmonic+Orchestra%2C+Brighton+Festival+Chorus%2C+Antal+Dor%C3%A1ti/', '/mp3/Hypocrisy/', '/mp3/Ikon/', '/mp3/Inari+Alchemist+and+Quintessa+Katra/', '/mp3/INDIGO+4/', '/mp3/Jayne+Trimble/', '/mp3/Joachim+Raff%3B+CSSR+State+Philharmonic%2C+Richard+Edlinger/', '/mp3/Johann+Sebastian+Bach%2C+Johannes+Brahms%3B+Dietrich+Fischer%E2%80%90Dieskau/', '/mp3/John+Cameron/', '/mp3/John+Duncan+%26+Bernhard+G%C3%BCnter/', '/mp3/John+Sanford/', '/mp3/John+Schaefer+with+Jon+Hassell/', '/mp3/John+Taylor+Trio/', '/mp3/Jonas+Blue+feat.+RAYE/', '/mp3/Jowell+ft.+%C3%91engo+%26+Watussi/', '/mp3/Jozef+van+Wissem+%E2%81%84+SQ%C3%9CRL/', '/mp3/K-Jano/', '/mp3/Keiji+Haino+%26+KK+Null/', '/mp3/Kenta+Matsumi/', '/mp3/Ko%C5%A1ick%C3%BD+detsk%C3%BD+spev%C3%A1cky+zbor/', '/mp3/Liane+Moriarty+read+by+Caroline+Lee/', '/mp3/Lindisfarne/', '/mp3/Liviya+Compean/', '/mp3/Lloydie+%26+The+Lowbites/', '/mp3/Luke+Leighfield/', '/mp3/Majmouat+Abde+Elhakim/', '/mp3/MAKO/', '/mp3/Marcia+Johnson/', '/mp3/Martin+Kuuskmann/', '/mp3/Michael+Glines/', '/mp3/Miles/', '/mp3/Minerva/', '/mp3/Misere+Nobis/', '/mp3/Moonshine+Wagon/', '/mp3/Morganthus/', '/mp3/Muncie+Girls/', '/mp3/Murat+Nasyrov/', '/mp3/Nadia+Struiwigh/', '/mp3/Nonamen/', '/mp3/Nummer/', '/mp3/Nurse+With+Wound+%E2%81%84+Current+93+%E2%81%84+Coil/', '/mp3/Painted+Doll/', '/mp3/Perverts+Again/', '/mp3/Peter+Frampton/', '/mp3/Pheek/', '/mp3/Phil+Watts/', '/mp3/Pigto/', '/mp3/Pl%C3%A1cido+Domingo%2C+Dionne+Warwick/', '/mp3/Poison+Popcorn/', '/mp3/Proteus/', '/mp3/PUZZLE/', '/mp3/Raimo+Erkinheimo+%E2%81%84+Juha+Eirto/', '/mp3/Ravel%3B+Pascal+Rog%C3%A9/', '/mp3/Robert+Rescue/', '/mp3/Rory+Justice+%26+His+Ubangi+Rockers/', '/mp3/Rossa/', '/mp3/Sadahnmo/', '/mp3/Samarkande/', '/mp3/Satchel+Paige/', '/mp3/Seesselberg/', '/mp3/Shay+D/', '/mp3/Shimshai+%26+Susana/', '/mp3/Sindicato+Argentino+del+Hip+Hop/', '/mp3/Siren+On/', '/mp3/Slaid+Cleaves/', '/mp3/Somatic+Responses/', '/mp3/Sonnerie/', '/mp3/Souls%27+Release/', '/mp3/Split+Whiskers/', '/mp3/Star+Of+Indiana/', '/mp3/Stranci/', '/mp3/Svarte+Greiner+%E2%81%84+Le+Corbeau/', '/mp3/S%C3%B8ren+Hyldgaard/', '/mp3/Tea+Dancers/', '/mp3/Team+Doyobi/', '/mp3/Teezy+Kingz/', '/mp3/Teriyaki+Boyz/', '/mp3/Terrence+Graham/', '/mp3/The+Basement+Brats/', '/mp3/The+Cookies%2C+Little+Eva+%26+Carole+King/', '/mp3/The+Crow+%E2%81%84+The+Jelly+Beans/', '/mp3/The+Dreamkeeper/', '/mp3/The+Echo+Park+Project/', '/mp3/The+Original+Brothers+and+Sisters+of+Love/', '/mp3/The+Prowlers+%E2%81%84+Produzenten+der+Froide/', '/mp3/The+Sado+Maso+Guitar+Club/', '/mp3/The+Two+Tears/', '/mp3/The+Weeknd+%26+Kendrick+Lamar/', '/mp3/The+Wind-Up+Bird/', '/mp3/Tiye+Phoenix/', '/mp3/Toumani+Diabat%C3%A9/', '/mp3/Tri-State+Conspiracy/', '/mp3/Troublesome/', '/mp3/U2+%26+Alan+Bangs/', '/mp3/Ur+Kaos/', '/mp3/Wynton+Marsalis%2C+English+Chamber+Orchestra%2C+Raymond+Leppard/', '/mp3/%D0%A0%D0%B0%D1%84%D0%B0%D1%8D%D0%BB%D1%8C/', '/mp3/%E3%82%AA%E3%82%AA%E3%82%BF%E3%83%A6%E3%82%AD/', '/mp3/%E3%83%8F%E3%83%83%E3%82%AB%E3%83%89%E3%83%BC%E3%83%AB/', '/mp3/%E4%BC%8A%E6%B3%A2%E6%9D%8F%E6%A8%B9%E3%80%81%E5%B0%8F%E6%BE%A4%E4%BA%9C%E6%9D%8E/', '/mp3/%E5%B1%B1%E5%B4%8E%E5%AE%97%E4%BB%8B+%28%E7%B4%B0%E8%B0%B7%E4%BD%B3%E6%AD%A3%29/', '/mp3/%E6%9D%BE%E4%BA%95%E9%9B%84%E9%A3%9B/', '/mp3/%E6%A2%81%E8%A9%A0%E7%90%AA/']\n",
      "http://1506.unknownsecret.info/mp3/http://8643.unknownsecret.info/mp3/\n",
      "['/Terms.html']\n",
      "http://1506.unknownsecret.info/mp3/http://639.unknownsecret.info/mp3/\n",
      "['/Terms.html']\n",
      "http://1506.unknownsecret.info/mp3/http://9497.unknownsecret.info/mp3/\n",
      "['/Terms.html']\n",
      "http://1506.unknownsecret.info/mp3/http://892.unknownsecret.info/mp3/\n",
      "['/Terms.html']\n",
      "http://1506.unknownsecret.info/mp3/\n",
      "├── http://639.unknownsecret.info/mp3/\n",
      "├── http://8643.unknownsecret.info/mp3/\n",
      "├── http://892.unknownsecret.info/mp3/\n",
      "└── http://9497.unknownsecret.info/mp3/\n",
      "\n"
     ]
    }
   ],
   "source": [
    "from treelib import Node, Tree\n",
    "listpaths = []\n",
    "website_link = 'http://hdgsnn.gov.vn/files/'\n",
    "listpaths.append([website_link,0])\n",
    "traversal_links = []\n",
    "tree = Tree()\n",
    "\n",
    "# add link as root\n",
    "tree.create_node(website_link, 0)  # root node\n",
    "#print (listpaths)\n",
    "while len(listpaths) > 0:\n",
    "    \n",
    "    # get current identifier then node\n",
    "    current = listpaths.pop(0)  # current 0 is tag, current 1 is identifier\n",
    "    currentnode = tree.get_node(current[1])\n",
    "    #print (currentnode)\n",
    "    \n",
    "    # get link from tree\n",
    "    link = getlink(currentnode)\n",
    "    \n",
    "    # get sub links all\n",
    "    if isfolderlink(link):  # parent is folder then get its contents, if not (file in this case) skip it\n",
    "        body = get_data(link)\n",
    "        children = parse_line(body)\n",
    "\n",
    "        # add all link to stack stack folder into\n",
    "        for i in range(len(children)):\n",
    "            if isparentlink(children[i]):    # skip parents folder\n",
    "                continue\n",
    "            else:\n",
    "                childID = \"{0}_{1}\".format(currentnode.identifier, i)\n",
    "                tree.create_node(children[i], childID, parent=currentnode.identifier)\n",
    "                traversal_links.append(link + children[i])\n",
    "                # add all sub links to list\n",
    "                if isfolderlink(children[i]):\n",
    "                    listpaths.append([children[i], childID])    \n",
    "tree.show()\n",
    "f = open(\"allLink_hdgsnn.txt\", \"w\")\n",
    "for link_row in traversal_links:\n",
    "    f.write(link_row + '\\n')\n",
    "f.close()"
   ]
  },
  {
   "cell_type": "code",
   "execution_count": null,
   "metadata": {},
   "outputs": [],
   "source": [
    "tree.save2file('hoi_dong_giao_su_nha_nuoc.txt')"
   ]
  },
  {
   "cell_type": "code",
   "execution_count": null,
   "metadata": {},
   "outputs": [],
   "source": [
    "tree.to_graphviz('hoi_dong_giao_su_nha_nuoc_viz.txt')"
   ]
  },
  {
   "cell_type": "code",
   "execution_count": null,
   "metadata": {},
   "outputs": [],
   "source": [
    "tree.to_json()"
   ]
  },
  {
   "cell_type": "code",
   "execution_count": null,
   "metadata": {},
   "outputs": [],
   "source": [
    "tree.paths_to_leaves()"
   ]
  }
 ],
 "metadata": {
  "kernelspec": {
   "display_name": "Python 3",
   "language": "python",
   "name": "python3"
  },
  "language_info": {
   "codemirror_mode": {
    "name": "ipython",
    "version": 3
   },
   "file_extension": ".py",
   "mimetype": "text/x-python",
   "name": "python",
   "nbconvert_exporter": "python",
   "pygments_lexer": "ipython3",
   "version": "3.7.4"
  }
 },
 "nbformat": 4,
 "nbformat_minor": 2
}
